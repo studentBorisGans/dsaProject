{
 "cells": [
  {
   "cell_type": "code",
   "execution_count": 3,
   "metadata": {},
   "outputs": [],
   "source": [
    "import matplotlib.pyplot as plt"
   ]
  },
  {
   "cell_type": "markdown",
   "metadata": {},
   "source": [
    "# INTRO"
   ]
  },
  {
   "cell_type": "markdown",
   "metadata": {},
   "source": [
    "The multipliers is a function of the number of bombs (a), number of cells clicked that were not a bomb (b), and percentage of your balance invested (c) \n",
    "\n",
    "In order to achieve this we will first simplify the function to only include variables a,b. Later on we will add the the variable c on top of it. We will refer to this process as the first iteration of the function development."
   ]
  },
  {
   "cell_type": "markdown",
   "metadata": {},
   "source": [
    "## FIRST ITERATION OF THE FUNCTION\n"
   ]
  },
  {
   "cell_type": "markdown",
   "metadata": {},
   "source": [
    "The fundametal property of this function is for it to reward risk. That is, the more unlikely your winning chances are, the higher the reward (multiplier) should be. The inverse also applies.\n",
    "\n",
    "So, let us first find a mathematical model (probability distribution) that captures the frequency of consecutive wins of bernoulli trials that are NOT independent."
   ]
  },
  {
   "cell_type": "markdown",
   "metadata": {},
   "source": [
    "The probability distribution P(x; r,n), parametrized by the number of cells (n) and the number of bombs (r). x (the input of the probability distribution) refers to the number of consecutive wins in our probabilistic experiment. Note this is the frequency model of outcomes, we have yet not touched on the multiplier function (which will be built upon this)."
   ]
  },
  {
   "cell_type": "markdown",
   "metadata": {},
   "source": [
    "Description of our (probabilistic) experiment:\n",
    "      - there are n amount of options to choose from (cells)\n",
    "      - there are r amount of bombs (cells that put you out of the game)\n",
    "      - there are n-r amount of diamons (cells that multiply your bet)\n",
    "      - the probability of the ith win is dependent of the prior status of the game (number of cells you had right). The likelyhood you hit a bomb is dependent on the number of prior attemps where you didnt hit one. A direct example is:  P(1; 3, 15) = 12/15 = .8, whereas for the same experiment, P(12) = 1/4 =.25"
   ]
  },
  {
   "cell_type": "markdown",
   "metadata": {},
   "source": [
    "It can be shown that our mathematical model should be: \n",
    "\n",
    "\n",
    "[(n-r)! / (n-x)!] / [(n!)/(n-r)!]\n",
    "\n",
    "which can be simplied to:\n",
    "\n",
    "[(n-r)!**2] / (n! * (n-x)!)\n"
   ]
  },
  {
   "cell_type": "markdown",
   "metadata": {},
   "source": [
    "$$\n",
    "P(x;n,r) = \\frac{(n-r)!^2}{n! \\cdot (n-x)!}\n",
    "$$\n"
   ]
  },
  {
   "cell_type": "markdown",
   "metadata": {},
   "source": [
    "Also note, n >= x && n >= r"
   ]
  },
  {
   "cell_type": "markdown",
   "metadata": {},
   "source": [
    "Lets model this for P(x; 25, 3), that is lets see the distribution parametrized for 25 cells (5*5 matrix) and with 3 bombs"
   ]
  },
  {
   "cell_type": "code",
   "execution_count": 4,
   "metadata": {},
   "outputs": [],
   "source": [
    "from math import factorial\n"
   ]
  },
  {
   "cell_type": "code",
   "execution_count": 5,
   "metadata": {},
   "outputs": [],
   "source": [
    "def probability_distribution(x :int, n: int, r:int) -> int:\n",
    "\n",
    "      numerator = (factorial(n-r))**2\n",
    "      denominator = factorial(n) * factorial(n-x)\n",
    "\n",
    "      return numerator / denominator # Frequency\n",
    "\n",
    "def frequency_table(n: int, r:int) -> dict:\n",
    "      \n",
    "      results_table = dict()\n",
    "\n",
    "      x = 0\n",
    "\n",
    "      while x <= n-r:\n",
    "            x += 1\n",
    "            results_table[x] = probability_distribution(x,n,r)\n",
    "\n",
    "\n",
    "      return results_table\n",
    "                    "
   ]
  },
  {
   "cell_type": "code",
   "execution_count": 6,
   "metadata": {},
   "outputs": [
    {
     "data": {
      "image/png": "[encoded data removed]",
      "text/plain": [
       "<Figure size 640x480 with 1 Axes>"
      ]
     },
     "metadata": {},
     "output_type": "display_data"
    }
   ],
   "source": [
    "table_results = frequency_table(25,3)\n",
    "\n",
    "plt.plot(table_results.keys(), table_results.values())\n",
    "plt.show()"
   ]
  },
  {
   "cell_type": "code",
   "execution_count": 7,
   "metadata": {},
   "outputs": [
    {
     "data": {
      "text/plain": [
       "{1: 1.312749422390254e-07,\n",
       " 2: 3.15059861373661e-06,\n",
       " 3: 7.246376811594203e-05,\n",
       " 4: 0.0015942028985507246,\n",
       " 5: 0.033478260869565214,\n",
       " 6: 0.6695652173913044,\n",
       " 7: 12.721739130434782,\n",
       " 8: 228.9913043478261,\n",
       " 9: 3892.8521739130433,\n",
       " 10: 62285.63478260869,\n",
       " 11: 934284.5217391305,\n",
       " 12: 13079983.304347826,\n",
       " 13: 170039782.95652175,\n",
       " 14: 2040477395.4782608,\n",
       " 15: 22445251350.260868,\n",
       " 16: 224452513502.6087,\n",
       " 17: 2020072621523.4783,\n",
       " 18: 16160580972187.826,\n",
       " 19: 113124066805314.78,\n",
       " 20: 678744400831888.8,\n",
       " 21: 3393722004159443.5,\n",
       " 22: 1.3574888016637774e+16,\n",
       " 23: 4.072466404991332e+16}"
      ]
     },
     "execution_count": 7,
     "metadata": {},
     "output_type": "execute_result"
    }
   ],
   "source": [
    "table_results"
   ]
  },
  {
   "cell_type": "markdown",
   "metadata": {},
   "source": [
    "<HR>"
   ]
  },
  {
   "cell_type": "markdown",
   "metadata": {},
   "source": [
    "THINGS TO DO:\n",
    "- Multiplier function\n",
    "- Expectation"
   ]
  },
  {
   "cell_type": "code",
   "execution_count": null,
   "metadata": {},
   "outputs": [],
   "source": []
  }
 ],
 "metadata": {
  "kernelspec": {
   "display_name": "Python 3",
   "language": "python",
   "name": "python3"
  },
  "language_info": {
   "codemirror_mode": {
    "name": "ipython",
    "version": 3
   },
   "file_extension": ".py",
   "mimetype": "text/x-python",
   "name": "python",
   "nbconvert_exporter": "python",
   "pygments_lexer": "ipython3",
   "version": "3.12.6"
  }
 },
 "nbformat": 4,
 "nbformat_minor": 2
}
